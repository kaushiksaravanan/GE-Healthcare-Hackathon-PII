{
 "cells": [
  {
   "cell_type": "code",
   "execution_count": 6,
   "metadata": {},
   "outputs": [],
   "source": [
    "sample_text = \"\"\"Jane Smith, a Senior Software Engineer from Anytown, USA, born on January 1, 1990,\n",
    "holds an account with the account number 1234567890 and has made transactions totaling $100.00, $250.50,\n",
    "and $50.00. Her banking details include a BIC of ABCDEFGH and an IBAN of DE12345678901234567890.\n",
    "She also possesses Bitcoin and Ethereum addresses, 1A1zP1eP5QGefi2DMPTfTL5SLmv7DivfNa and\n",
    "0x5AEDA56215b167893e80B4fE645BA6d5Bab767DE, respectively. Her contact information includes\n",
    "the email jane.smith@example.com and phone number +1 (555) 123-4567. She lives at 123 Main St, Anytown,\n",
    "USA, with a ZIP code of 12345. Her credit card number is 1234 5678 9012 3456, issued by Visa, with a\n",
    "CVV of 123. She prefers transactions in USD, the US Dollar ($). Her devices have IPv4 address 192.168.0.1,\n",
    "IPv6 address 2001:0db8:85a3:0000:0000:8a2e:0370:7334, and MAC address 00:0a:95:9d:68:16.\n",
    "She accesses the internet with the user agent Mozilla/5.0 (Windows NT 10.0; Win64; x64) AppleWebKit/537.36 (KHTML, like Gecko)\n",
    "Chrome/91.0.4472.124 Safari/537.36 and maintains an online presence with the username janesmith at http://example.com.\n",
    "Her SSN is 123-45-6789, and her vehicle VIN is 1HGCM82633A004352 with VRM ABC123.\n",
    "Her phone's IMEI is 123456789012345, and she can be located at 40.7128° N, 74.0060° W.\"\"\""
   ]
  },
  {
   "cell_type": "code",
   "execution_count": 7,
   "metadata": {},
   "outputs": [
    {
     "name": "stderr",
     "output_type": "stream",
     "text": [
      "d:\\Softwares\\Python311\\Lib\\site-packages\\huggingface_hub\\file_download.py:1132: FutureWarning: `resume_download` is deprecated and will be removed in version 1.0.0. Downloads always resume when possible. If you want to force a new download, use `force_download=True`.\n",
      "  warnings.warn(\n"
     ]
    },
    {
     "name": "stdout",
     "output_type": "stream",
     "text": [
      "{'entity_group': 'FIRSTNAME', 'score': 0.93483466, 'word': 'jane', 'start': 0, 'end': 4}\n",
      "{'entity_group': 'LASTNAME', 'score': 0.99014246, 'word': 'smith,', 'start': 5, 'end': 11}\n",
      "{'entity_group': 'CITY', 'score': 0.99949265, 'word': 'anytown,', 'start': 44, 'end': 52}\n",
      "{'entity_group': 'STATE', 'score': 0.52237105, 'word': ',', 'start': 56, 'end': 57}\n",
      "{'entity_group': 'DOB', 'score': 0.9982092, 'word': 'january 1, 1990,', 'start': 66, 'end': 82}\n",
      "{'entity_group': 'ACCOUNTNUMBER', 'score': 0.99770457, 'word': '1234567890', 'start': 124, 'end': 134}\n",
      "{'entity_group': 'IBAN', 'score': 0.9998212, 'word': 'de12345678901234567890.', 'start': 261, 'end': 284}\n",
      "{'entity_group': 'EMAIL', 'score': 0.88438326, 'word': 'jane', 'start': 476, 'end': 480}\n",
      "{'entity_group': 'PHONENUMBER', 'score': 0.9427794, 'word': '+ 1 ( 555 ) 123 - 4567.', 'start': 516, 'end': 534}\n",
      "{'entity_group': 'BUILDINGNUMBER', 'score': 0.9990262, 'word': '123', 'start': 548, 'end': 551}\n",
      "{'entity_group': 'STREET', 'score': 0.8283985, 'word': 'main st,', 'start': 552, 'end': 560}\n",
      "{'entity_group': 'CITY', 'score': 0.9961546, 'word': 'anytown,', 'start': 561, 'end': 569}\n",
      "{'entity_group': 'STATE', 'score': 0.64568245, 'word': ',', 'start': 573, 'end': 574}\n",
      "{'entity_group': 'ZIPCODE', 'score': 0.99590915, 'word': '12345.', 'start': 594, 'end': 600}\n",
      "{'entity_group': 'PHONENUMBER', 'score': 0.7977843, 'word': '1234 5678 9012 3456,', 'start': 627, 'end': 647}\n",
      "{'entity_group': 'CREDITCARDISSUER', 'score': 0.99871635, 'word': 'visa,', 'start': 658, 'end': 663}\n",
      "{'entity_group': 'CREDITCARDCVV', 'score': 0.9960504, 'word': '123.', 'start': 678, 'end': 682}\n",
      "{'entity_group': 'AMOUNT', 'score': 0.97161245, 'word': '537. 36', 'start': 1022, 'end': 1028}\n",
      "{'entity_group': 'FIRSTNAME', 'score': 0.96688163, 'word': 'janesmith', 'start': 1080, 'end': 1089}\n",
      "{'entity_group': 'URL', 'score': 0.9997608, 'word': 'http : / / example. com.', 'start': 1093, 'end': 1112}\n",
      "{'entity_group': 'SSN', 'score': 0.9971832, 'word': '123 - 45 - 6789', 'start': 1124, 'end': 1135}\n"
     ]
    }
   ],
   "source": [
    "from transformers import pipeline\n",
    "\n",
    "pipe = pipeline(\"token-classification\", model=\"ab-ai/pii_model\")\n",
    "\n",
    "text = sample_text\n",
    "output = pipe(text, aggregation_strategy=\"first\")\n",
    "for data in output:\n",
    "    print(data)"
   ]
  }
 ],
 "metadata": {
  "kernelspec": {
   "display_name": "Python 3",
   "language": "python",
   "name": "python3"
  },
  "language_info": {
   "codemirror_mode": {
    "name": "ipython",
    "version": 3
   },
   "file_extension": ".py",
   "mimetype": "text/x-python",
   "name": "python",
   "nbconvert_exporter": "python",
   "pygments_lexer": "ipython3",
   "version": "3.11.4"
  }
 },
 "nbformat": 4,
 "nbformat_minor": 2
}
