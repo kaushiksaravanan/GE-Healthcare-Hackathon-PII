{
 "cells": [
  {
   "cell_type": "markdown",
   "metadata": {},
   "source": [
    "### Sample 1"
   ]
  },
  {
   "cell_type": "code",
   "execution_count": 1,
   "metadata": {},
   "outputs": [
    {
     "name": "stdout",
     "output_type": "stream",
     "text": [
      "This is a text document that speaks about entities like and\n"
     ]
    }
   ],
   "source": [
    "import spacy\n",
    "\n",
    "nlp = spacy.load('en_core_web_sm')\n",
    "\n",
    "text_data = 'This is a text document that speaks about entities like Sweden and Nokia'\n",
    "\n",
    "document = nlp(text_data)\n",
    "\n",
    "text_no_namedentities = []\n",
    "\n",
    "ents = [e.text for e in document.ents]\n",
    "for item in document:\n",
    "    if item.text in ents:\n",
    "        pass\n",
    "    else:\n",
    "        text_no_namedentities.append(item.text)\n",
    "print(\" \".join(text_no_namedentities))"
   ]
  },
  {
   "cell_type": "markdown",
   "metadata": {},
   "source": [
    "### Sample 2"
   ]
  },
  {
   "cell_type": "code",
   "execution_count": 4,
   "metadata": {},
   "outputs": [
    {
     "name": "stdout",
     "output_type": "stream",
     "text": [
      "[PERSON] email is [PERSON]. He lives in [GPE] and works at [GPE]. His phone number is [CARDINAL]-456-7890.\n"
     ]
    }
   ],
   "source": [
    "import spacy\n",
    "\n",
    "# Load the spaCy model\n",
    "nlp = spacy.load(\"en_core_web_sm\")\n",
    "\n",
    "def replace_pii(text):\n",
    "    # Process the text with spaCy\n",
    "    doc = nlp(text)\n",
    "    \n",
    "    # Define the PII labels we are interested in\n",
    "    pii_labels = ['PERSON', 'NORP', 'FAC', 'ORG', 'GPE', 'LOC', 'PRODUCT', 'EVENT', 'WORK_OF_ART', 'LAW', 'LANGUAGE', 'DATE', 'TIME', 'PERCENT', 'MONEY', 'QUANTITY', 'ORDINAL', 'CARDINAL']\n",
    "\n",
    "    # Initialize a list to hold the new text parts\n",
    "    new_text_parts = []\n",
    "    last_end = 0\n",
    "\n",
    "    # Iterate over the entities detected by spaCy\n",
    "    for ent in doc.ents:\n",
    "        if ent.label_ in pii_labels:\n",
    "            # Append text from the end of the last entity to the start of this one\n",
    "            new_text_parts.append(text[last_end:ent.start_char])\n",
    "            # Append a placeholder for the PII\n",
    "            new_text_parts.append(f\"[{ent.label_}]\")\n",
    "            # Update the last_end to the end of this entity\n",
    "            last_end = ent.end_char\n",
    "\n",
    "    # Append any remaining text after the last entity\n",
    "    new_text_parts.append(text[last_end:])\n",
    "\n",
    "    # Join all parts into the final text\n",
    "    new_text = ''.join(new_text_parts)\n",
    "    return new_text\n",
    "\n",
    "# Test the function\n",
    "sample_text = \"John Doe's email is john.doe@example.com. He lives in New York and works at OpenAI. His phone number is 123-456-7890.\"\n",
    "replaced_text = replace_pii(sample_text)\n",
    "print(replaced_text)\n"
   ]
  },
  {
   "cell_type": "markdown",
   "metadata": {},
   "source": [
    "### All the PII labels detected by SpactNER"
   ]
  },
  {
   "cell_type": "code",
   "execution_count": 3,
   "metadata": {},
   "outputs": [
    {
     "data": {
      "text/plain": [
       "('CARDINAL',\n",
       " 'DATE',\n",
       " 'EVENT',\n",
       " 'FAC',\n",
       " 'GPE',\n",
       " 'LANGUAGE',\n",
       " 'LAW',\n",
       " 'LOC',\n",
       " 'MONEY',\n",
       " 'NORP',\n",
       " 'ORDINAL',\n",
       " 'ORG',\n",
       " 'PERCENT',\n",
       " 'PERSON',\n",
       " 'PRODUCT',\n",
       " 'QUANTITY',\n",
       " 'TIME',\n",
       " 'WORK_OF_ART')"
      ]
     },
     "execution_count": 3,
     "metadata": {},
     "output_type": "execute_result"
    }
   ],
   "source": [
    "nlp.get_pipe('ner').labels"
   ]
  }
 ],
 "metadata": {
  "kernelspec": {
   "display_name": "Python 3",
   "language": "python",
   "name": "python3"
  },
  "language_info": {
   "codemirror_mode": {
    "name": "ipython",
    "version": 3
   },
   "file_extension": ".py",
   "mimetype": "text/x-python",
   "name": "python",
   "nbconvert_exporter": "python",
   "pygments_lexer": "ipython3",
   "version": "3.11.4"
  }
 },
 "nbformat": 4,
 "nbformat_minor": 2
}
